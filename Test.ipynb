{
 "cells": [
  {
   "cell_type": "markdown",
   "id": "05600df9",
   "metadata": {
    "toc": true
   },
   "source": [
    "<h1>Содержание<span class=\"tocSkip\"></span></h1>\n",
    "<div class=\"toc\"><ul class=\"toc-item\"><li><span><a href=\"#Изучение-данных-из-файла\" data-toc-modified-id=\"Изучение-данных-из-файла-1\"><span class=\"toc-item-num\">1&nbsp;&nbsp;</span>Изучение данных из файла</a></span></li><li><span><a href=\"#Сводная-таблица\" data-toc-modified-id=\"Сводная-таблица-2\"><span class=\"toc-item-num\">2&nbsp;&nbsp;</span>Сводная таблица</a></span></li><li><span><a href=\"#График-доходов\" data-toc-modified-id=\"График-доходов-3\"><span class=\"toc-item-num\">3&nbsp;&nbsp;</span>График доходов</a></span></li></ul></div>"
   ]
  },
  {
   "cell_type": "markdown",
   "id": "4aee47dc",
   "metadata": {},
   "source": [
    "# Тестовое задание "
   ]
  },
  {
   "cell_type": "markdown",
   "id": "ed9dbb48",
   "metadata": {},
   "source": [
    "Для решения тестового задания необходимо изучить представленные данные, сделать предобработку и выполнить основные пункты технического задания."
   ]
  },
  {
   "cell_type": "markdown",
   "id": "cdec0725",
   "metadata": {},
   "source": [
    "**Задачи:**\n",
    "\n",
    "* Создать сводную табицу, которая отразит доход и расход по дням;\n",
    "* Построить график дохода (по дням)."
   ]
  },
  {
   "cell_type": "markdown",
   "id": "d7af8f62",
   "metadata": {},
   "source": [
    "## Изучение данных из файла"
   ]
  },
  {
   "cell_type": "markdown",
   "id": "a787a11c",
   "metadata": {},
   "source": [
    "Первым делом нужно импортировать библиотеки."
   ]
  },
  {
   "cell_type": "code",
   "execution_count": 1,
   "id": "119d10a2",
   "metadata": {},
   "outputs": [],
   "source": [
    "import pandas as pd # импорт библиотек\n",
    "import matplotlib.pyplot as plt \n",
    "from datetime import datetime, timedelta\n",
    "\n",
    "from io import BytesIO\n",
    "import requests\n",
    "\n",
    "import warnings\n",
    "warnings.filterwarnings('ignore')\n",
    "\n",
    "pd.set_option('display.max_columns', None)\n",
    "pd.set_option('display.max_colwidth', None)"
   ]
  },
  {
   "cell_type": "markdown",
   "id": "5983057a",
   "metadata": {},
   "source": [
    "Далее прочитаем файл с данными и запишем его в переменную `df`."
   ]
  },
  {
   "cell_type": "code",
   "execution_count": 2,
   "id": "7343d47c",
   "metadata": {},
   "outputs": [],
   "source": [
    "df = pd.read_excel('Выгрузка.xlsx', sheet_name=0) # чтение файла "
   ]
  },
  {
   "cell_type": "code",
   "execution_count": 3,
   "id": "e7987da4",
   "metadata": {
    "scrolled": true
   },
   "outputs": [
    {
     "data": {
      "text/html": [
       "<div>\n",
       "<style scoped>\n",
       "    .dataframe tbody tr th:only-of-type {\n",
       "        vertical-align: middle;\n",
       "    }\n",
       "\n",
       "    .dataframe tbody tr th {\n",
       "        vertical-align: top;\n",
       "    }\n",
       "\n",
       "    .dataframe thead th {\n",
       "        text-align: right;\n",
       "    }\n",
       "</style>\n",
       "<table border=\"1\" class=\"dataframe\">\n",
       "  <thead>\n",
       "    <tr style=\"text-align: right;\">\n",
       "      <th></th>\n",
       "      <th>Date</th>\n",
       "      <th>Time</th>\n",
       "      <th>Status</th>\n",
       "      <th>Currency</th>\n",
       "      <th>Gross</th>\n",
       "      <th>Fee</th>\n",
       "      <th>Net</th>\n",
       "      <th>Transaction ID</th>\n",
       "      <th>Item Title</th>\n",
       "      <th>Balance</th>\n",
       "      <th>Balance Impact</th>\n",
       "    </tr>\n",
       "  </thead>\n",
       "  <tbody>\n",
       "    <tr>\n",
       "      <th>0</th>\n",
       "      <td>2022-08-10</td>\n",
       "      <td>12:45:21</td>\n",
       "      <td>Completed</td>\n",
       "      <td>RUB</td>\n",
       "      <td>450.00</td>\n",
       "      <td>-61.46</td>\n",
       "      <td>388.54</td>\n",
       "      <td>6U7566589N2468603</td>\n",
       "      <td>Order 1283192</td>\n",
       "      <td>388.54</td>\n",
       "      <td>Credit</td>\n",
       "    </tr>\n",
       "    <tr>\n",
       "      <th>1</th>\n",
       "      <td>2022-08-11</td>\n",
       "      <td>10:11:36</td>\n",
       "      <td>Completed</td>\n",
       "      <td>RUB</td>\n",
       "      <td>1240.28</td>\n",
       "      <td>0.00</td>\n",
       "      <td>1240.28</td>\n",
       "      <td>6X099906R3739683W</td>\n",
       "      <td>NaN</td>\n",
       "      <td>1628.82</td>\n",
       "      <td>Credit</td>\n",
       "    </tr>\n",
       "    <tr>\n",
       "      <th>2</th>\n",
       "      <td>2022-08-18</td>\n",
       "      <td>03:25:51</td>\n",
       "      <td>Completed</td>\n",
       "      <td>RUB</td>\n",
       "      <td>-1628.82</td>\n",
       "      <td>0.00</td>\n",
       "      <td>-1628.82</td>\n",
       "      <td>5C304739RT393572S</td>\n",
       "      <td>NaN</td>\n",
       "      <td>0.00</td>\n",
       "      <td>Debit</td>\n",
       "    </tr>\n",
       "    <tr>\n",
       "      <th>3</th>\n",
       "      <td>2022-09-11</td>\n",
       "      <td>09:44:57</td>\n",
       "      <td>Completed</td>\n",
       "      <td>RUB</td>\n",
       "      <td>450.00</td>\n",
       "      <td>-61.46</td>\n",
       "      <td>388.54</td>\n",
       "      <td>7SC2944021323101N</td>\n",
       "      <td>Order 1298867</td>\n",
       "      <td>388.54</td>\n",
       "      <td>Credit</td>\n",
       "    </tr>\n",
       "    <tr>\n",
       "      <th>4</th>\n",
       "      <td>2022-09-29</td>\n",
       "      <td>07:38:49</td>\n",
       "      <td>Completed</td>\n",
       "      <td>RUB</td>\n",
       "      <td>-388.54</td>\n",
       "      <td>0.00</td>\n",
       "      <td>-388.54</td>\n",
       "      <td>3AU17784WP490160T</td>\n",
       "      <td>NaN</td>\n",
       "      <td>0.00</td>\n",
       "      <td>Debit</td>\n",
       "    </tr>\n",
       "  </tbody>\n",
       "</table>\n",
       "</div>"
      ],
      "text/plain": [
       "        Date      Time     Status Currency    Gross    Fee      Net  \\\n",
       "0 2022-08-10  12:45:21  Completed      RUB   450.00 -61.46   388.54   \n",
       "1 2022-08-11  10:11:36  Completed      RUB  1240.28   0.00  1240.28   \n",
       "2 2022-08-18  03:25:51  Completed      RUB -1628.82   0.00 -1628.82   \n",
       "3 2022-09-11  09:44:57  Completed      RUB   450.00 -61.46   388.54   \n",
       "4 2022-09-29  07:38:49  Completed      RUB  -388.54   0.00  -388.54   \n",
       "\n",
       "      Transaction ID     Item Title  Balance Balance Impact  \n",
       "0  6U7566589N2468603  Order 1283192   388.54         Credit  \n",
       "1  6X099906R3739683W            NaN  1628.82         Credit  \n",
       "2  5C304739RT393572S            NaN     0.00          Debit  \n",
       "3  7SC2944021323101N  Order 1298867   388.54         Credit  \n",
       "4  3AU17784WP490160T            NaN     0.00          Debit  "
      ]
     },
     "execution_count": 3,
     "metadata": {},
     "output_type": "execute_result"
    }
   ],
   "source": [
    "df.head() # смотрим первые пять строк таблицы"
   ]
  },
  {
   "cell_type": "markdown",
   "id": "044e8658",
   "metadata": {},
   "source": [
    "**Общая информация о датафрейме:**"
   ]
  },
  {
   "cell_type": "code",
   "execution_count": 4,
   "id": "20a64e9c",
   "metadata": {},
   "outputs": [
    {
     "name": "stdout",
     "output_type": "stream",
     "text": [
      "<class 'pandas.core.frame.DataFrame'>\n",
      "RangeIndex: 117 entries, 0 to 116\n",
      "Data columns (total 11 columns):\n",
      " #   Column          Non-Null Count  Dtype         \n",
      "---  ------          --------------  -----         \n",
      " 0   Date            117 non-null    datetime64[ns]\n",
      " 1   Time            117 non-null    object        \n",
      " 2   Status          117 non-null    object        \n",
      " 3   Currency        117 non-null    object        \n",
      " 4   Gross           117 non-null    float64       \n",
      " 5   Fee             117 non-null    float64       \n",
      " 6   Net             117 non-null    float64       \n",
      " 7   Transaction ID  117 non-null    object        \n",
      " 8   Item Title      93 non-null     object        \n",
      " 9   Balance         117 non-null    float64       \n",
      " 10  Balance Impact  117 non-null    object        \n",
      "dtypes: datetime64[ns](1), float64(4), object(6)\n",
      "memory usage: 10.2+ KB\n"
     ]
    }
   ],
   "source": [
    "df.info() # получение общей информации о данных в таблице df"
   ]
  },
  {
   "cell_type": "markdown",
   "id": "80b8b42c",
   "metadata": {},
   "source": [
    "Итак, в таблице 11 столбцов. Тип данных в столбцах: `datetime64`, `object`, `float64`.\n",
    "\n",
    "Согласно документации к данным:\n",
    "\n",
    "* Date — Дата;\n",
    "* Time — Время;\n",
    "* Status — Статус;\n",
    "* Currency — Валюта;\n",
    "* Gross — Валовая выручка;\n",
    "* Fee — Налог;\n",
    "* Net — Чистая прибыль;\n",
    "* Transaction ID — Идентификатор транзакции;\n",
    "* Item Title — Название;\n",
    "* Balance — Баланс;\n",
    "* Balance Impact — Дебет/Кредит."
   ]
  },
  {
   "cell_type": "markdown",
   "id": "2622f757",
   "metadata": {},
   "source": [
    "Изменяю названия столбцов для удобного использования:"
   ]
  },
  {
   "cell_type": "code",
   "execution_count": 5,
   "id": "21a8657f",
   "metadata": {},
   "outputs": [
    {
     "data": {
      "text/plain": [
       "Index(['Date', 'Time', 'Status', 'Currency', 'Gross', 'Fee', 'Net',\n",
       "       'Transaction ID', 'Item Title', 'Balance', 'Balance Impact'],\n",
       "      dtype='object')"
      ]
     },
     "execution_count": 5,
     "metadata": {},
     "output_type": "execute_result"
    }
   ],
   "source": [
    "df.columns"
   ]
  },
  {
   "cell_type": "code",
   "execution_count": 6,
   "id": "7fdac28a",
   "metadata": {},
   "outputs": [],
   "source": [
    "df.columns = df.columns.str.lower()\n",
    "\n",
    "df.rename(columns = {'transaction id' : 'transaction_id', \n",
    "                     'item title' : 'item_title', \n",
    "                     'balance impact' : 'balance_impact'}, inplace = True) "
   ]
  },
  {
   "cell_type": "markdown",
   "id": "6df02119",
   "metadata": {},
   "source": [
    "Проверка изменений:"
   ]
  },
  {
   "cell_type": "code",
   "execution_count": 17,
   "id": "18b5bbb2",
   "metadata": {
    "scrolled": true
   },
   "outputs": [
    {
     "data": {
      "text/html": [
       "<div>\n",
       "<style scoped>\n",
       "    .dataframe tbody tr th:only-of-type {\n",
       "        vertical-align: middle;\n",
       "    }\n",
       "\n",
       "    .dataframe tbody tr th {\n",
       "        vertical-align: top;\n",
       "    }\n",
       "\n",
       "    .dataframe thead th {\n",
       "        text-align: right;\n",
       "    }\n",
       "</style>\n",
       "<table border=\"1\" class=\"dataframe\">\n",
       "  <thead>\n",
       "    <tr style=\"text-align: right;\">\n",
       "      <th></th>\n",
       "      <th>date</th>\n",
       "      <th>time</th>\n",
       "      <th>status</th>\n",
       "      <th>currency</th>\n",
       "      <th>gross</th>\n",
       "      <th>fee</th>\n",
       "      <th>net</th>\n",
       "      <th>transaction_id</th>\n",
       "      <th>item_title</th>\n",
       "      <th>balance</th>\n",
       "      <th>balance_impact</th>\n",
       "      <th>date_format</th>\n",
       "    </tr>\n",
       "  </thead>\n",
       "  <tbody>\n",
       "    <tr>\n",
       "      <th>0</th>\n",
       "      <td>2022-08-10</td>\n",
       "      <td>12:45:21</td>\n",
       "      <td>Completed</td>\n",
       "      <td>RUB</td>\n",
       "      <td>450.00</td>\n",
       "      <td>-61.46</td>\n",
       "      <td>388.54</td>\n",
       "      <td>6U7566589N2468603</td>\n",
       "      <td>Order 1283192</td>\n",
       "      <td>388.54</td>\n",
       "      <td>Credit</td>\n",
       "      <td>2022-08-10</td>\n",
       "    </tr>\n",
       "    <tr>\n",
       "      <th>1</th>\n",
       "      <td>2022-08-11</td>\n",
       "      <td>10:11:36</td>\n",
       "      <td>Completed</td>\n",
       "      <td>RUB</td>\n",
       "      <td>1240.28</td>\n",
       "      <td>0.00</td>\n",
       "      <td>1240.28</td>\n",
       "      <td>6X099906R3739683W</td>\n",
       "      <td>NaN</td>\n",
       "      <td>1628.82</td>\n",
       "      <td>Credit</td>\n",
       "      <td>2022-08-11</td>\n",
       "    </tr>\n",
       "    <tr>\n",
       "      <th>2</th>\n",
       "      <td>2022-08-18</td>\n",
       "      <td>03:25:51</td>\n",
       "      <td>Completed</td>\n",
       "      <td>RUB</td>\n",
       "      <td>-1628.82</td>\n",
       "      <td>0.00</td>\n",
       "      <td>-1628.82</td>\n",
       "      <td>5C304739RT393572S</td>\n",
       "      <td>NaN</td>\n",
       "      <td>0.00</td>\n",
       "      <td>Debit</td>\n",
       "      <td>2022-08-18</td>\n",
       "    </tr>\n",
       "  </tbody>\n",
       "</table>\n",
       "</div>"
      ],
      "text/plain": [
       "        date      time     status currency    gross    fee      net  \\\n",
       "0 2022-08-10  12:45:21  Completed      RUB   450.00 -61.46   388.54   \n",
       "1 2022-08-11  10:11:36  Completed      RUB  1240.28   0.00  1240.28   \n",
       "2 2022-08-18  03:25:51  Completed      RUB -1628.82   0.00 -1628.82   \n",
       "\n",
       "      transaction_id     item_title  balance balance_impact date_format  \n",
       "0  6U7566589N2468603  Order 1283192   388.54         Credit  2022-08-10  \n",
       "1  6X099906R3739683W            NaN  1628.82         Credit  2022-08-11  \n",
       "2  5C304739RT393572S            NaN     0.00          Debit  2022-08-18  "
      ]
     },
     "execution_count": 17,
     "metadata": {},
     "output_type": "execute_result"
    }
   ],
   "source": [
    "df.head(3)"
   ]
  },
  {
   "cell_type": "markdown",
   "id": "6592a961",
   "metadata": {},
   "source": [
    "Отлично, далее работа с типами данных."
   ]
  },
  {
   "cell_type": "markdown",
   "id": "85f0fa52",
   "metadata": {},
   "source": [
    "**Типы данных:**"
   ]
  },
  {
   "cell_type": "markdown",
   "id": "08ef9077",
   "metadata": {},
   "source": [
    "Замена типов данных для числовых значений (4 столбца):"
   ]
  },
  {
   "cell_type": "code",
   "execution_count": 8,
   "id": "968951bf",
   "metadata": {},
   "outputs": [],
   "source": [
    "df[['gross', 'fee', 'net', 'balance']] = df[['gross', 'fee', 'net', 'balance']].astype('float64')"
   ]
  },
  {
   "cell_type": "code",
   "execution_count": 9,
   "id": "942797a3",
   "metadata": {},
   "outputs": [
    {
     "name": "stdout",
     "output_type": "stream",
     "text": [
      "<class 'pandas.core.frame.DataFrame'>\n",
      "RangeIndex: 117 entries, 0 to 116\n",
      "Data columns (total 11 columns):\n",
      " #   Column          Non-Null Count  Dtype         \n",
      "---  ------          --------------  -----         \n",
      " 0   date            117 non-null    datetime64[ns]\n",
      " 1   time            117 non-null    object        \n",
      " 2   status          117 non-null    object        \n",
      " 3   currency        117 non-null    object        \n",
      " 4   gross           117 non-null    float64       \n",
      " 5   fee             117 non-null    float64       \n",
      " 6   net             117 non-null    float64       \n",
      " 7   transaction_id  117 non-null    object        \n",
      " 8   item_title      93 non-null     object        \n",
      " 9   balance         117 non-null    float64       \n",
      " 10  balance_impact  117 non-null    object        \n",
      "dtypes: datetime64[ns](1), float64(4), object(6)\n",
      "memory usage: 10.2+ KB\n"
     ]
    }
   ],
   "source": [
    "df.info() #проверка "
   ]
  },
  {
   "cell_type": "markdown",
   "id": "5e41e030",
   "metadata": {},
   "source": [
    "Готово, с числовыми данными теперь можно работать."
   ]
  },
  {
   "cell_type": "code",
   "execution_count": 20,
   "id": "ce696ca3",
   "metadata": {
    "scrolled": true
   },
   "outputs": [
    {
     "data": {
      "text/html": [
       "<div>\n",
       "<style scoped>\n",
       "    .dataframe tbody tr th:only-of-type {\n",
       "        vertical-align: middle;\n",
       "    }\n",
       "\n",
       "    .dataframe tbody tr th {\n",
       "        vertical-align: top;\n",
       "    }\n",
       "\n",
       "    .dataframe thead th {\n",
       "        text-align: right;\n",
       "    }\n",
       "</style>\n",
       "<table border=\"1\" class=\"dataframe\">\n",
       "  <thead>\n",
       "    <tr style=\"text-align: right;\">\n",
       "      <th></th>\n",
       "      <th>date</th>\n",
       "      <th>time</th>\n",
       "      <th>status</th>\n",
       "      <th>currency</th>\n",
       "      <th>gross</th>\n",
       "      <th>fee</th>\n",
       "      <th>net</th>\n",
       "      <th>transaction_id</th>\n",
       "      <th>item_title</th>\n",
       "      <th>balance</th>\n",
       "      <th>balance_impact</th>\n",
       "      <th>date_format</th>\n",
       "    </tr>\n",
       "  </thead>\n",
       "  <tbody>\n",
       "    <tr>\n",
       "      <th>0</th>\n",
       "      <td>2022-08-10</td>\n",
       "      <td>12:45:21</td>\n",
       "      <td>Completed</td>\n",
       "      <td>RUB</td>\n",
       "      <td>450.00</td>\n",
       "      <td>-61.46</td>\n",
       "      <td>388.54</td>\n",
       "      <td>6U7566589N2468603</td>\n",
       "      <td>Order 1283192</td>\n",
       "      <td>388.54</td>\n",
       "      <td>Credit</td>\n",
       "      <td>2022-08-10</td>\n",
       "    </tr>\n",
       "    <tr>\n",
       "      <th>1</th>\n",
       "      <td>2022-08-11</td>\n",
       "      <td>10:11:36</td>\n",
       "      <td>Completed</td>\n",
       "      <td>RUB</td>\n",
       "      <td>1240.28</td>\n",
       "      <td>0.00</td>\n",
       "      <td>1240.28</td>\n",
       "      <td>6X099906R3739683W</td>\n",
       "      <td>NaN</td>\n",
       "      <td>1628.82</td>\n",
       "      <td>Credit</td>\n",
       "      <td>2022-08-11</td>\n",
       "    </tr>\n",
       "    <tr>\n",
       "      <th>2</th>\n",
       "      <td>2022-08-18</td>\n",
       "      <td>03:25:51</td>\n",
       "      <td>Completed</td>\n",
       "      <td>RUB</td>\n",
       "      <td>-1628.82</td>\n",
       "      <td>0.00</td>\n",
       "      <td>-1628.82</td>\n",
       "      <td>5C304739RT393572S</td>\n",
       "      <td>NaN</td>\n",
       "      <td>0.00</td>\n",
       "      <td>Debit</td>\n",
       "      <td>2022-08-18</td>\n",
       "    </tr>\n",
       "  </tbody>\n",
       "</table>\n",
       "</div>"
      ],
      "text/plain": [
       "        date      time     status currency    gross    fee      net  \\\n",
       "0 2022-08-10  12:45:21  Completed      RUB   450.00 -61.46   388.54   \n",
       "1 2022-08-11  10:11:36  Completed      RUB  1240.28   0.00  1240.28   \n",
       "2 2022-08-18  03:25:51  Completed      RUB -1628.82   0.00 -1628.82   \n",
       "\n",
       "      transaction_id     item_title  balance balance_impact date_format  \n",
       "0  6U7566589N2468603  Order 1283192   388.54         Credit  2022-08-10  \n",
       "1  6X099906R3739683W            NaN  1628.82         Credit  2022-08-11  \n",
       "2  5C304739RT393572S            NaN     0.00          Debit  2022-08-18  "
      ]
     },
     "execution_count": 20,
     "metadata": {},
     "output_type": "execute_result"
    }
   ],
   "source": [
    "df.head(3)"
   ]
  },
  {
   "cell_type": "markdown",
   "id": "1e3ed5d3",
   "metadata": {},
   "source": [
    "Для интереса посмотрим на даты начала и конца периода в наших данных:"
   ]
  },
  {
   "cell_type": "code",
   "execution_count": 11,
   "id": "b5e87c6d",
   "metadata": {},
   "outputs": [
    {
     "data": {
      "text/plain": [
       "min   2022-08-10\n",
       "max   2022-10-31\n",
       "Name: date, dtype: datetime64[ns]"
      ]
     },
     "execution_count": 11,
     "metadata": {},
     "output_type": "execute_result"
    }
   ],
   "source": [
    "df['date'].agg(['min', 'max'])"
   ]
  },
  {
   "cell_type": "markdown",
   "id": "c0dd2dbd",
   "metadata": {},
   "source": [
    "* Минимальная дата: `2022-08-10`;\n",
    "* Максимальная дата: `2022-10-31`."
   ]
  },
  {
   "cell_type": "markdown",
   "id": "6c84d27d",
   "metadata": {},
   "source": [
    "## Сводная таблица"
   ]
  },
  {
   "cell_type": "markdown",
   "id": "eb067df1",
   "metadata": {},
   "source": [
    "Необходимо построить сводную таблицу, которая отразит доход и расход по дням. \n",
    "\n",
    "Таблица будет представлена в двух вариантах:\n",
    "* первый вариант - с помощью pivot_table (сводная таблица);\n",
    "* второй вариант с помощью группировки."
   ]
  },
  {
   "cell_type": "code",
   "execution_count": 12,
   "id": "1a5c2c26",
   "metadata": {
    "scrolled": false
   },
   "outputs": [
    {
     "data": {
      "text/html": [
       "<div>\n",
       "<style scoped>\n",
       "    .dataframe tbody tr th:only-of-type {\n",
       "        vertical-align: middle;\n",
       "    }\n",
       "\n",
       "    .dataframe tbody tr th {\n",
       "        vertical-align: top;\n",
       "    }\n",
       "\n",
       "    .dataframe thead th {\n",
       "        text-align: right;\n",
       "    }\n",
       "</style>\n",
       "<table border=\"1\" class=\"dataframe\">\n",
       "  <thead>\n",
       "    <tr style=\"text-align: right;\">\n",
       "      <th></th>\n",
       "      <th>Дата</th>\n",
       "      <th>Доход</th>\n",
       "      <th>Расход</th>\n",
       "    </tr>\n",
       "  </thead>\n",
       "  <tbody>\n",
       "    <tr>\n",
       "      <th>0</th>\n",
       "      <td>2022-08-10</td>\n",
       "      <td>388.54</td>\n",
       "      <td></td>\n",
       "    </tr>\n",
       "    <tr>\n",
       "      <th>1</th>\n",
       "      <td>2022-08-11</td>\n",
       "      <td>1240.28</td>\n",
       "      <td></td>\n",
       "    </tr>\n",
       "    <tr>\n",
       "      <th>2</th>\n",
       "      <td>2022-08-18</td>\n",
       "      <td></td>\n",
       "      <td>-1628.82</td>\n",
       "    </tr>\n",
       "    <tr>\n",
       "      <th>3</th>\n",
       "      <td>2022-09-11</td>\n",
       "      <td>388.54</td>\n",
       "      <td></td>\n",
       "    </tr>\n",
       "    <tr>\n",
       "      <th>4</th>\n",
       "      <td>2022-09-29</td>\n",
       "      <td></td>\n",
       "      <td>-388.54</td>\n",
       "    </tr>\n",
       "    <tr>\n",
       "      <th>5</th>\n",
       "      <td>2022-10-07</td>\n",
       "      <td>4508.0</td>\n",
       "      <td></td>\n",
       "    </tr>\n",
       "    <tr>\n",
       "      <th>6</th>\n",
       "      <td>2022-10-08</td>\n",
       "      <td>9587.05</td>\n",
       "      <td>-4508.0</td>\n",
       "    </tr>\n",
       "    <tr>\n",
       "      <th>7</th>\n",
       "      <td>2022-10-09</td>\n",
       "      <td>8813.94</td>\n",
       "      <td>-9587.05</td>\n",
       "    </tr>\n",
       "    <tr>\n",
       "      <th>8</th>\n",
       "      <td>2022-10-10</td>\n",
       "      <td></td>\n",
       "      <td>-8813.94</td>\n",
       "    </tr>\n",
       "    <tr>\n",
       "      <th>9</th>\n",
       "      <td>2022-10-11</td>\n",
       "      <td>3031.83</td>\n",
       "      <td></td>\n",
       "    </tr>\n",
       "    <tr>\n",
       "      <th>10</th>\n",
       "      <td>2022-10-12</td>\n",
       "      <td>1489.66</td>\n",
       "      <td>-3031.83</td>\n",
       "    </tr>\n",
       "    <tr>\n",
       "      <th>11</th>\n",
       "      <td>2022-10-13</td>\n",
       "      <td>13279.4</td>\n",
       "      <td>-1489.66</td>\n",
       "    </tr>\n",
       "    <tr>\n",
       "      <th>12</th>\n",
       "      <td>2022-10-14</td>\n",
       "      <td>8585.91</td>\n",
       "      <td>-13279.4</td>\n",
       "    </tr>\n",
       "    <tr>\n",
       "      <th>13</th>\n",
       "      <td>2022-10-15</td>\n",
       "      <td>1552.42</td>\n",
       "      <td>-8585.91</td>\n",
       "    </tr>\n",
       "    <tr>\n",
       "      <th>14</th>\n",
       "      <td>2022-10-16</td>\n",
       "      <td>12646.69</td>\n",
       "      <td>-1552.42</td>\n",
       "    </tr>\n",
       "    <tr>\n",
       "      <th>15</th>\n",
       "      <td>2022-10-17</td>\n",
       "      <td>9673.52</td>\n",
       "      <td>-12646.69</td>\n",
       "    </tr>\n",
       "    <tr>\n",
       "      <th>16</th>\n",
       "      <td>2022-10-18</td>\n",
       "      <td>2151.76</td>\n",
       "      <td>-9673.52</td>\n",
       "    </tr>\n",
       "    <tr>\n",
       "      <th>17</th>\n",
       "      <td>2022-10-19</td>\n",
       "      <td>474.05</td>\n",
       "      <td>-2151.76</td>\n",
       "    </tr>\n",
       "    <tr>\n",
       "      <th>18</th>\n",
       "      <td>2022-10-20</td>\n",
       "      <td>2202.24</td>\n",
       "      <td>-474.05</td>\n",
       "    </tr>\n",
       "    <tr>\n",
       "      <th>19</th>\n",
       "      <td>2022-10-21</td>\n",
       "      <td>1101.12</td>\n",
       "      <td>-2202.24</td>\n",
       "    </tr>\n",
       "    <tr>\n",
       "      <th>20</th>\n",
       "      <td>2022-10-22</td>\n",
       "      <td></td>\n",
       "      <td>-1101.12</td>\n",
       "    </tr>\n",
       "    <tr>\n",
       "      <th>21</th>\n",
       "      <td>2022-10-23</td>\n",
       "      <td>1461.16</td>\n",
       "      <td></td>\n",
       "    </tr>\n",
       "    <tr>\n",
       "      <th>22</th>\n",
       "      <td>2022-10-24</td>\n",
       "      <td>24728.65</td>\n",
       "      <td>-1461.16</td>\n",
       "    </tr>\n",
       "    <tr>\n",
       "      <th>23</th>\n",
       "      <td>2022-10-25</td>\n",
       "      <td>40032.52</td>\n",
       "      <td>-24728.65</td>\n",
       "    </tr>\n",
       "    <tr>\n",
       "      <th>24</th>\n",
       "      <td>2022-10-26</td>\n",
       "      <td>53561.04</td>\n",
       "      <td>-40032.52</td>\n",
       "    </tr>\n",
       "    <tr>\n",
       "      <th>25</th>\n",
       "      <td>2022-10-27</td>\n",
       "      <td></td>\n",
       "      <td>-53561.04</td>\n",
       "    </tr>\n",
       "    <tr>\n",
       "      <th>26</th>\n",
       "      <td>2022-10-29</td>\n",
       "      <td>1500.16</td>\n",
       "      <td></td>\n",
       "    </tr>\n",
       "    <tr>\n",
       "      <th>27</th>\n",
       "      <td>2022-10-30</td>\n",
       "      <td>19969.11</td>\n",
       "      <td>-1500.16</td>\n",
       "    </tr>\n",
       "    <tr>\n",
       "      <th>28</th>\n",
       "      <td>2022-10-31</td>\n",
       "      <td>6601.24</td>\n",
       "      <td>-23969.11</td>\n",
       "    </tr>\n",
       "  </tbody>\n",
       "</table>\n",
       "</div>"
      ],
      "text/plain": [
       "         Дата     Доход    Расход\n",
       "0  2022-08-10    388.54          \n",
       "1  2022-08-11   1240.28          \n",
       "2  2022-08-18            -1628.82\n",
       "3  2022-09-11    388.54          \n",
       "4  2022-09-29             -388.54\n",
       "5  2022-10-07    4508.0          \n",
       "6  2022-10-08   9587.05   -4508.0\n",
       "7  2022-10-09   8813.94  -9587.05\n",
       "8  2022-10-10            -8813.94\n",
       "9  2022-10-11   3031.83          \n",
       "10 2022-10-12   1489.66  -3031.83\n",
       "11 2022-10-13   13279.4  -1489.66\n",
       "12 2022-10-14   8585.91  -13279.4\n",
       "13 2022-10-15   1552.42  -8585.91\n",
       "14 2022-10-16  12646.69  -1552.42\n",
       "15 2022-10-17   9673.52 -12646.69\n",
       "16 2022-10-18   2151.76  -9673.52\n",
       "17 2022-10-19    474.05  -2151.76\n",
       "18 2022-10-20   2202.24   -474.05\n",
       "19 2022-10-21   1101.12  -2202.24\n",
       "20 2022-10-22            -1101.12\n",
       "21 2022-10-23   1461.16          \n",
       "22 2022-10-24  24728.65  -1461.16\n",
       "23 2022-10-25  40032.52 -24728.65\n",
       "24 2022-10-26  53561.04 -40032.52\n",
       "25 2022-10-27           -53561.04\n",
       "26 2022-10-29   1500.16          \n",
       "27 2022-10-30  19969.11  -1500.16\n",
       "28 2022-10-31   6601.24 -23969.11"
      ]
     },
     "execution_count": 12,
     "metadata": {},
     "output_type": "execute_result"
    }
   ],
   "source": [
    "df_pivot = df.pivot_table(values='net', index='date', columns='balance_impact', aggfunc='sum').fillna('') #строим сводную таблицу\n",
    "df_pivot = df_pivot.reset_index()\n",
    "df_pivot.columns = ['Дата', 'Доход', 'Расход']\n",
    "\n",
    "df_pivot"
   ]
  },
  {
   "cell_type": "markdown",
   "id": "cb23a8ae",
   "metadata": {},
   "source": [
    "Таблица доходов с помощью метода `groupby`."
   ]
  },
  {
   "cell_type": "code",
   "execution_count": 21,
   "id": "ca954512",
   "metadata": {},
   "outputs": [
    {
     "data": {
      "text/html": [
       "<div>\n",
       "<style scoped>\n",
       "    .dataframe tbody tr th:only-of-type {\n",
       "        vertical-align: middle;\n",
       "    }\n",
       "\n",
       "    .dataframe tbody tr th {\n",
       "        vertical-align: top;\n",
       "    }\n",
       "\n",
       "    .dataframe thead th {\n",
       "        text-align: right;\n",
       "    }\n",
       "</style>\n",
       "<table border=\"1\" class=\"dataframe\">\n",
       "  <thead>\n",
       "    <tr style=\"text-align: right;\">\n",
       "      <th></th>\n",
       "      <th>Дата</th>\n",
       "      <th>Признак</th>\n",
       "      <th>Итог</th>\n",
       "    </tr>\n",
       "  </thead>\n",
       "  <tbody>\n",
       "    <tr>\n",
       "      <th>0</th>\n",
       "      <td>2022-08-10</td>\n",
       "      <td>Доход</td>\n",
       "      <td>388.54</td>\n",
       "    </tr>\n",
       "    <tr>\n",
       "      <th>1</th>\n",
       "      <td>2022-08-11</td>\n",
       "      <td>Доход</td>\n",
       "      <td>1240.28</td>\n",
       "    </tr>\n",
       "    <tr>\n",
       "      <th>2</th>\n",
       "      <td>2022-08-18</td>\n",
       "      <td>Расход</td>\n",
       "      <td>-1628.82</td>\n",
       "    </tr>\n",
       "    <tr>\n",
       "      <th>3</th>\n",
       "      <td>2022-09-11</td>\n",
       "      <td>Доход</td>\n",
       "      <td>388.54</td>\n",
       "    </tr>\n",
       "    <tr>\n",
       "      <th>4</th>\n",
       "      <td>2022-09-29</td>\n",
       "      <td>Расход</td>\n",
       "      <td>-388.54</td>\n",
       "    </tr>\n",
       "    <tr>\n",
       "      <th>5</th>\n",
       "      <td>2022-10-07</td>\n",
       "      <td>Доход</td>\n",
       "      <td>4508.00</td>\n",
       "    </tr>\n",
       "    <tr>\n",
       "      <th>6</th>\n",
       "      <td>2022-10-08</td>\n",
       "      <td>Доход</td>\n",
       "      <td>9587.05</td>\n",
       "    </tr>\n",
       "    <tr>\n",
       "      <th>7</th>\n",
       "      <td>2022-10-08</td>\n",
       "      <td>Расход</td>\n",
       "      <td>-4508.00</td>\n",
       "    </tr>\n",
       "    <tr>\n",
       "      <th>8</th>\n",
       "      <td>2022-10-09</td>\n",
       "      <td>Доход</td>\n",
       "      <td>8813.94</td>\n",
       "    </tr>\n",
       "    <tr>\n",
       "      <th>9</th>\n",
       "      <td>2022-10-09</td>\n",
       "      <td>Расход</td>\n",
       "      <td>-9587.05</td>\n",
       "    </tr>\n",
       "    <tr>\n",
       "      <th>10</th>\n",
       "      <td>2022-10-10</td>\n",
       "      <td>Расход</td>\n",
       "      <td>-8813.94</td>\n",
       "    </tr>\n",
       "    <tr>\n",
       "      <th>11</th>\n",
       "      <td>2022-10-11</td>\n",
       "      <td>Доход</td>\n",
       "      <td>3031.83</td>\n",
       "    </tr>\n",
       "    <tr>\n",
       "      <th>12</th>\n",
       "      <td>2022-10-12</td>\n",
       "      <td>Доход</td>\n",
       "      <td>1489.66</td>\n",
       "    </tr>\n",
       "    <tr>\n",
       "      <th>13</th>\n",
       "      <td>2022-10-12</td>\n",
       "      <td>Расход</td>\n",
       "      <td>-3031.83</td>\n",
       "    </tr>\n",
       "    <tr>\n",
       "      <th>14</th>\n",
       "      <td>2022-10-13</td>\n",
       "      <td>Доход</td>\n",
       "      <td>13279.40</td>\n",
       "    </tr>\n",
       "    <tr>\n",
       "      <th>15</th>\n",
       "      <td>2022-10-13</td>\n",
       "      <td>Расход</td>\n",
       "      <td>-1489.66</td>\n",
       "    </tr>\n",
       "    <tr>\n",
       "      <th>16</th>\n",
       "      <td>2022-10-14</td>\n",
       "      <td>Доход</td>\n",
       "      <td>8585.91</td>\n",
       "    </tr>\n",
       "    <tr>\n",
       "      <th>17</th>\n",
       "      <td>2022-10-14</td>\n",
       "      <td>Расход</td>\n",
       "      <td>-13279.40</td>\n",
       "    </tr>\n",
       "    <tr>\n",
       "      <th>18</th>\n",
       "      <td>2022-10-15</td>\n",
       "      <td>Доход</td>\n",
       "      <td>1552.42</td>\n",
       "    </tr>\n",
       "    <tr>\n",
       "      <th>19</th>\n",
       "      <td>2022-10-15</td>\n",
       "      <td>Расход</td>\n",
       "      <td>-8585.91</td>\n",
       "    </tr>\n",
       "    <tr>\n",
       "      <th>20</th>\n",
       "      <td>2022-10-16</td>\n",
       "      <td>Доход</td>\n",
       "      <td>12646.69</td>\n",
       "    </tr>\n",
       "    <tr>\n",
       "      <th>21</th>\n",
       "      <td>2022-10-16</td>\n",
       "      <td>Расход</td>\n",
       "      <td>-1552.42</td>\n",
       "    </tr>\n",
       "    <tr>\n",
       "      <th>22</th>\n",
       "      <td>2022-10-17</td>\n",
       "      <td>Доход</td>\n",
       "      <td>9673.52</td>\n",
       "    </tr>\n",
       "    <tr>\n",
       "      <th>23</th>\n",
       "      <td>2022-10-17</td>\n",
       "      <td>Расход</td>\n",
       "      <td>-12646.69</td>\n",
       "    </tr>\n",
       "    <tr>\n",
       "      <th>24</th>\n",
       "      <td>2022-10-18</td>\n",
       "      <td>Доход</td>\n",
       "      <td>2151.76</td>\n",
       "    </tr>\n",
       "    <tr>\n",
       "      <th>25</th>\n",
       "      <td>2022-10-18</td>\n",
       "      <td>Расход</td>\n",
       "      <td>-9673.52</td>\n",
       "    </tr>\n",
       "    <tr>\n",
       "      <th>26</th>\n",
       "      <td>2022-10-19</td>\n",
       "      <td>Доход</td>\n",
       "      <td>474.05</td>\n",
       "    </tr>\n",
       "    <tr>\n",
       "      <th>27</th>\n",
       "      <td>2022-10-19</td>\n",
       "      <td>Расход</td>\n",
       "      <td>-2151.76</td>\n",
       "    </tr>\n",
       "    <tr>\n",
       "      <th>28</th>\n",
       "      <td>2022-10-20</td>\n",
       "      <td>Доход</td>\n",
       "      <td>2202.24</td>\n",
       "    </tr>\n",
       "    <tr>\n",
       "      <th>29</th>\n",
       "      <td>2022-10-20</td>\n",
       "      <td>Расход</td>\n",
       "      <td>-474.05</td>\n",
       "    </tr>\n",
       "    <tr>\n",
       "      <th>30</th>\n",
       "      <td>2022-10-21</td>\n",
       "      <td>Доход</td>\n",
       "      <td>1101.12</td>\n",
       "    </tr>\n",
       "    <tr>\n",
       "      <th>31</th>\n",
       "      <td>2022-10-21</td>\n",
       "      <td>Расход</td>\n",
       "      <td>-2202.24</td>\n",
       "    </tr>\n",
       "    <tr>\n",
       "      <th>32</th>\n",
       "      <td>2022-10-22</td>\n",
       "      <td>Расход</td>\n",
       "      <td>-1101.12</td>\n",
       "    </tr>\n",
       "    <tr>\n",
       "      <th>33</th>\n",
       "      <td>2022-10-23</td>\n",
       "      <td>Доход</td>\n",
       "      <td>1461.16</td>\n",
       "    </tr>\n",
       "    <tr>\n",
       "      <th>34</th>\n",
       "      <td>2022-10-24</td>\n",
       "      <td>Доход</td>\n",
       "      <td>24728.65</td>\n",
       "    </tr>\n",
       "    <tr>\n",
       "      <th>35</th>\n",
       "      <td>2022-10-24</td>\n",
       "      <td>Расход</td>\n",
       "      <td>-1461.16</td>\n",
       "    </tr>\n",
       "    <tr>\n",
       "      <th>36</th>\n",
       "      <td>2022-10-25</td>\n",
       "      <td>Доход</td>\n",
       "      <td>40032.52</td>\n",
       "    </tr>\n",
       "    <tr>\n",
       "      <th>37</th>\n",
       "      <td>2022-10-25</td>\n",
       "      <td>Расход</td>\n",
       "      <td>-24728.65</td>\n",
       "    </tr>\n",
       "    <tr>\n",
       "      <th>38</th>\n",
       "      <td>2022-10-26</td>\n",
       "      <td>Доход</td>\n",
       "      <td>53561.04</td>\n",
       "    </tr>\n",
       "    <tr>\n",
       "      <th>39</th>\n",
       "      <td>2022-10-26</td>\n",
       "      <td>Расход</td>\n",
       "      <td>-40032.52</td>\n",
       "    </tr>\n",
       "    <tr>\n",
       "      <th>40</th>\n",
       "      <td>2022-10-27</td>\n",
       "      <td>Расход</td>\n",
       "      <td>-53561.04</td>\n",
       "    </tr>\n",
       "    <tr>\n",
       "      <th>41</th>\n",
       "      <td>2022-10-29</td>\n",
       "      <td>Доход</td>\n",
       "      <td>1500.16</td>\n",
       "    </tr>\n",
       "    <tr>\n",
       "      <th>42</th>\n",
       "      <td>2022-10-30</td>\n",
       "      <td>Доход</td>\n",
       "      <td>19969.11</td>\n",
       "    </tr>\n",
       "    <tr>\n",
       "      <th>43</th>\n",
       "      <td>2022-10-30</td>\n",
       "      <td>Расход</td>\n",
       "      <td>-1500.16</td>\n",
       "    </tr>\n",
       "    <tr>\n",
       "      <th>44</th>\n",
       "      <td>2022-10-31</td>\n",
       "      <td>Доход</td>\n",
       "      <td>6601.24</td>\n",
       "    </tr>\n",
       "    <tr>\n",
       "      <th>45</th>\n",
       "      <td>2022-10-31</td>\n",
       "      <td>Расход</td>\n",
       "      <td>-23969.11</td>\n",
       "    </tr>\n",
       "  </tbody>\n",
       "</table>\n",
       "</div>"
      ],
      "text/plain": [
       "         Дата Признак      Итог\n",
       "0  2022-08-10   Доход    388.54\n",
       "1  2022-08-11   Доход   1240.28\n",
       "2  2022-08-18  Расход  -1628.82\n",
       "3  2022-09-11   Доход    388.54\n",
       "4  2022-09-29  Расход   -388.54\n",
       "5  2022-10-07   Доход   4508.00\n",
       "6  2022-10-08   Доход   9587.05\n",
       "7  2022-10-08  Расход  -4508.00\n",
       "8  2022-10-09   Доход   8813.94\n",
       "9  2022-10-09  Расход  -9587.05\n",
       "10 2022-10-10  Расход  -8813.94\n",
       "11 2022-10-11   Доход   3031.83\n",
       "12 2022-10-12   Доход   1489.66\n",
       "13 2022-10-12  Расход  -3031.83\n",
       "14 2022-10-13   Доход  13279.40\n",
       "15 2022-10-13  Расход  -1489.66\n",
       "16 2022-10-14   Доход   8585.91\n",
       "17 2022-10-14  Расход -13279.40\n",
       "18 2022-10-15   Доход   1552.42\n",
       "19 2022-10-15  Расход  -8585.91\n",
       "20 2022-10-16   Доход  12646.69\n",
       "21 2022-10-16  Расход  -1552.42\n",
       "22 2022-10-17   Доход   9673.52\n",
       "23 2022-10-17  Расход -12646.69\n",
       "24 2022-10-18   Доход   2151.76\n",
       "25 2022-10-18  Расход  -9673.52\n",
       "26 2022-10-19   Доход    474.05\n",
       "27 2022-10-19  Расход  -2151.76\n",
       "28 2022-10-20   Доход   2202.24\n",
       "29 2022-10-20  Расход   -474.05\n",
       "30 2022-10-21   Доход   1101.12\n",
       "31 2022-10-21  Расход  -2202.24\n",
       "32 2022-10-22  Расход  -1101.12\n",
       "33 2022-10-23   Доход   1461.16\n",
       "34 2022-10-24   Доход  24728.65\n",
       "35 2022-10-24  Расход  -1461.16\n",
       "36 2022-10-25   Доход  40032.52\n",
       "37 2022-10-25  Расход -24728.65\n",
       "38 2022-10-26   Доход  53561.04\n",
       "39 2022-10-26  Расход -40032.52\n",
       "40 2022-10-27  Расход -53561.04\n",
       "41 2022-10-29   Доход   1500.16\n",
       "42 2022-10-30   Доход  19969.11\n",
       "43 2022-10-30  Расход  -1500.16\n",
       "44 2022-10-31   Доход   6601.24\n",
       "45 2022-10-31  Расход -23969.11"
      ]
     },
     "execution_count": 21,
     "metadata": {},
     "output_type": "execute_result"
    }
   ],
   "source": [
    "df_group = df.groupby(['date', 'balance_impact']).agg({'net':'sum'})\n",
    "df_group = df_group.reset_index()\n",
    "df_group.columns = ['Дата', 'Признак', 'Итог']\n",
    "df_group.replace({'Credit':'Доход',\n",
    "                  'Debit':'Расход'})"
   ]
  },
  {
   "cell_type": "markdown",
   "id": "46a68241",
   "metadata": {},
   "source": [
    "Таблицы готовы, далее необходимо построить график доходов."
   ]
  },
  {
   "cell_type": "markdown",
   "id": "07af9630",
   "metadata": {},
   "source": [
    "## График доходов"
   ]
  },
  {
   "cell_type": "code",
   "execution_count": 14,
   "id": "fe0edb70",
   "metadata": {},
   "outputs": [],
   "source": [
    "plt.style.use('seaborn') #используем стиль отображения графиков seaborn"
   ]
  },
  {
   "cell_type": "markdown",
   "id": "9b6e51c0",
   "metadata": {},
   "source": [
    "В первую очередь создаю столбец с датой:"
   ]
  },
  {
   "cell_type": "code",
   "execution_count": 15,
   "id": "513bb873",
   "metadata": {},
   "outputs": [],
   "source": [
    "df['date_format'] = df['date'].dt.date"
   ]
  },
  {
   "cell_type": "markdown",
   "id": "6a5ba7d0",
   "metadata": {},
   "source": [
    "Теперь можно строить график доходов по дням с помощью `matplotlib`:"
   ]
  },
  {
   "cell_type": "code",
   "execution_count": 16,
   "id": "0e4af946",
   "metadata": {},
   "outputs": [
    {
     "data": {
      "image/png": "[encoded data removed]",
      "text/plain": [
       "<Figure size 1152x288 with 1 Axes>"
      ]
     },
     "metadata": {},
     "output_type": "display_data"
    }
   ],
   "source": [
    "(df\n",
    " .groupby(['date_format', 'balance_impact']).agg({'net':'sum'}).query('net > 0')\n",
    " .plot(kind='bar', figsize=(16,4))\n",
    ")\n",
    "plt.title('График дохода (по дням)'+ \"\\n\", size=14) # строим график\n",
    "plt.xlabel(\"\\n\" + 'Дата', size=12)\n",
    "plt.ylabel('Величина дохода, руб.' + \"\\n\", size=12)\n",
    "plt.tick_params(axis='x', labelsize=10, labelrotation=90)\n",
    "plt.legend().set_visible(False)\n",
    "plt.grid(True)"
   ]
  },
  {
   "cell_type": "markdown",
   "id": "49931bd5",
   "metadata": {},
   "source": [
    "`26 октября 2022 года` в этот день доход составил `53 561,04` рублей, данный показатель стал самым большим в анализируемом периоде. "
   ]
  },
  {
   "cell_type": "markdown",
   "id": "23d7e7d0",
   "metadata": {},
   "source": [
    "# Информация по проекту"
   ]
  },
  {
   "cell_type": "markdown",
   "id": "628f16f1",
   "metadata": {},
   "source": [
    "Данные предоставлены для выполнения тестового задания командой `Пачки`.\n",
    "\n",
    "Тестовое задание выполнил Князев Роман, tg:`RareTreoo`.\n",
    "\n",
    "*Дата: 03.03.2023*"
   ]
  }
 ],
 "metadata": {
  "ExecuteTimeLog": [
   {
    "duration": 1431,
    "start_time": "2023-03-01T16:36:53.289Z"
   },
   {
    "duration": 7,
    "start_time": "2023-03-01T16:37:00.509Z"
   },
   {
    "duration": 43,
    "start_time": "2023-03-01T16:37:51.557Z"
   },
   {
    "duration": 849,
    "start_time": "2023-03-01T17:01:34.488Z"
   },
   {
    "duration": 88,
    "start_time": "2023-03-01T17:01:43.343Z"
   },
   {
    "duration": 20,
    "start_time": "2023-03-01T17:01:49.610Z"
   },
   {
    "duration": 12,
    "start_time": "2023-03-01T17:03:00.031Z"
   },
   {
    "duration": 11,
    "start_time": "2023-03-01T17:05:14.651Z"
   },
   {
    "duration": 1551,
    "start_time": "2023-03-01T17:56:50.227Z"
   },
   {
    "duration": 561,
    "start_time": "2023-03-01T17:56:51.779Z"
   },
   {
    "duration": 18,
    "start_time": "2023-03-01T17:56:52.341Z"
   },
   {
    "duration": 13,
    "start_time": "2023-03-01T17:56:52.361Z"
   },
   {
    "duration": 799,
    "start_time": "2023-03-01T17:58:53.982Z"
   },
   {
    "duration": 6,
    "start_time": "2023-03-01T17:59:01.397Z"
   },
   {
    "duration": 4,
    "start_time": "2023-03-01T18:18:37.863Z"
   },
   {
    "duration": 5,
    "start_time": "2023-03-01T18:18:44.971Z"
   },
   {
    "duration": 4,
    "start_time": "2023-03-01T18:18:52.639Z"
   },
   {
    "duration": 7,
    "start_time": "2023-03-01T18:18:53.166Z"
   },
   {
    "duration": 4,
    "start_time": "2023-03-01T18:19:01.037Z"
   },
   {
    "duration": 5,
    "start_time": "2023-03-01T18:19:01.417Z"
   },
   {
    "duration": 3,
    "start_time": "2023-03-01T18:19:13.798Z"
   },
   {
    "duration": 5,
    "start_time": "2023-03-01T18:19:14.148Z"
   },
   {
    "duration": 3,
    "start_time": "2023-03-01T18:19:17.832Z"
   },
   {
    "duration": 6,
    "start_time": "2023-03-01T18:19:18.938Z"
   },
   {
    "duration": 1467,
    "start_time": "2023-03-01T18:31:36.547Z"
   },
   {
    "duration": 220,
    "start_time": "2023-03-01T18:31:38.016Z"
   },
   {
    "duration": 18,
    "start_time": "2023-03-01T18:31:38.238Z"
   },
   {
    "duration": 16,
    "start_time": "2023-03-01T18:31:38.257Z"
   },
   {
    "duration": 15,
    "start_time": "2023-03-01T18:31:38.276Z"
   },
   {
    "duration": 4,
    "start_time": "2023-03-01T18:31:38.293Z"
   },
   {
    "duration": 6,
    "start_time": "2023-03-01T18:31:38.299Z"
   },
   {
    "duration": 5,
    "start_time": "2023-03-01T18:33:39.759Z"
   },
   {
    "duration": 18,
    "start_time": "2023-03-01T18:33:52.281Z"
   },
   {
    "duration": 6,
    "start_time": "2023-03-01T18:34:22.607Z"
   },
   {
    "duration": 4,
    "start_time": "2023-03-01T18:34:52.442Z"
   },
   {
    "duration": 14,
    "start_time": "2023-03-01T18:39:18.063Z"
   },
   {
    "duration": 14,
    "start_time": "2023-03-01T18:44:03.889Z"
   },
   {
    "duration": 7,
    "start_time": "2023-03-01T18:47:07.476Z"
   },
   {
    "duration": 14,
    "start_time": "2023-03-01T18:47:08.176Z"
   },
   {
    "duration": 6,
    "start_time": "2023-03-01T18:49:48.498Z"
   },
   {
    "duration": 4,
    "start_time": "2023-03-01T18:50:16.439Z"
   },
   {
    "duration": 5,
    "start_time": "2023-03-01T18:50:16.801Z"
   },
   {
    "duration": 1339,
    "start_time": "2023-03-01T18:50:28.174Z"
   },
   {
    "duration": 203,
    "start_time": "2023-03-01T18:50:29.515Z"
   },
   {
    "duration": 17,
    "start_time": "2023-03-01T18:50:29.719Z"
   },
   {
    "duration": 12,
    "start_time": "2023-03-01T18:50:29.739Z"
   },
   {
    "duration": 10,
    "start_time": "2023-03-01T18:50:29.753Z"
   },
   {
    "duration": 20,
    "start_time": "2023-03-01T18:50:29.765Z"
   },
   {
    "duration": 18,
    "start_time": "2023-03-01T18:50:29.787Z"
   },
   {
    "duration": 5,
    "start_time": "2023-03-01T18:50:29.807Z"
   },
   {
    "duration": 7,
    "start_time": "2023-03-01T18:50:29.813Z"
   },
   {
    "duration": 7,
    "start_time": "2023-03-01T18:50:29.822Z"
   },
   {
    "duration": 1315,
    "start_time": "2023-03-01T18:50:44.306Z"
   },
   {
    "duration": 215,
    "start_time": "2023-03-01T18:50:45.623Z"
   },
   {
    "duration": 17,
    "start_time": "2023-03-01T18:50:45.840Z"
   },
   {
    "duration": 21,
    "start_time": "2023-03-01T18:50:45.859Z"
   },
   {
    "duration": 5,
    "start_time": "2023-03-01T18:50:45.882Z"
   },
   {
    "duration": 18,
    "start_time": "2023-03-01T18:50:45.889Z"
   },
   {
    "duration": 31,
    "start_time": "2023-03-01T18:50:45.909Z"
   },
   {
    "duration": 7,
    "start_time": "2023-03-01T18:50:45.942Z"
   },
   {
    "duration": 7,
    "start_time": "2023-03-01T18:50:45.951Z"
   },
   {
    "duration": 23,
    "start_time": "2023-03-01T18:50:45.960Z"
   },
   {
    "duration": 1423,
    "start_time": "2023-03-01T18:51:04.935Z"
   },
   {
    "duration": 246,
    "start_time": "2023-03-01T18:51:06.361Z"
   },
   {
    "duration": 19,
    "start_time": "2023-03-01T18:51:06.609Z"
   },
   {
    "duration": 13,
    "start_time": "2023-03-01T18:51:06.632Z"
   },
   {
    "duration": 14,
    "start_time": "2023-03-01T18:51:06.647Z"
   },
   {
    "duration": 23,
    "start_time": "2023-03-01T18:51:06.663Z"
   },
   {
    "duration": 26,
    "start_time": "2023-03-01T18:51:06.688Z"
   },
   {
    "duration": 5,
    "start_time": "2023-03-01T18:51:06.716Z"
   },
   {
    "duration": 9,
    "start_time": "2023-03-01T18:51:06.724Z"
   },
   {
    "duration": 8,
    "start_time": "2023-03-01T18:51:06.735Z"
   },
   {
    "duration": 1369,
    "start_time": "2023-03-01T18:57:44.826Z"
   },
   {
    "duration": 205,
    "start_time": "2023-03-01T18:57:46.197Z"
   },
   {
    "duration": 18,
    "start_time": "2023-03-01T18:57:46.404Z"
   },
   {
    "duration": 12,
    "start_time": "2023-03-01T18:57:46.423Z"
   },
   {
    "duration": 9,
    "start_time": "2023-03-01T18:57:46.437Z"
   },
   {
    "duration": 9,
    "start_time": "2023-03-01T18:57:46.461Z"
   },
   {
    "duration": 25,
    "start_time": "2023-03-01T18:57:46.472Z"
   },
   {
    "duration": 6,
    "start_time": "2023-03-01T18:58:04.433Z"
   },
   {
    "duration": 141,
    "start_time": "2023-03-01T18:58:21.328Z"
   },
   {
    "duration": 5,
    "start_time": "2023-03-01T18:58:25.646Z"
   },
   {
    "duration": 6,
    "start_time": "2023-03-01T18:59:55.906Z"
   },
   {
    "duration": 4,
    "start_time": "2023-03-01T19:00:10.427Z"
   },
   {
    "duration": 1329,
    "start_time": "2023-03-01T19:01:29.680Z"
   },
   {
    "duration": 237,
    "start_time": "2023-03-01T19:01:31.011Z"
   },
   {
    "duration": 16,
    "start_time": "2023-03-01T19:01:31.250Z"
   },
   {
    "duration": 21,
    "start_time": "2023-03-01T19:01:31.268Z"
   },
   {
    "duration": 20,
    "start_time": "2023-03-01T19:01:31.291Z"
   },
   {
    "duration": 30,
    "start_time": "2023-03-01T19:01:31.313Z"
   },
   {
    "duration": 30,
    "start_time": "2023-03-01T19:01:31.345Z"
   },
   {
    "duration": 39,
    "start_time": "2023-03-01T19:01:31.377Z"
   },
   {
    "duration": 24,
    "start_time": "2023-03-01T19:01:31.417Z"
   },
   {
    "duration": 1309,
    "start_time": "2023-03-01T19:02:52.424Z"
   },
   {
    "duration": 180,
    "start_time": "2023-03-01T19:02:53.736Z"
   },
   {
    "duration": 16,
    "start_time": "2023-03-01T19:02:53.918Z"
   },
   {
    "duration": 11,
    "start_time": "2023-03-01T19:02:53.936Z"
   },
   {
    "duration": 9,
    "start_time": "2023-03-01T19:02:53.949Z"
   },
   {
    "duration": 6,
    "start_time": "2023-03-01T19:02:53.960Z"
   },
   {
    "duration": 18,
    "start_time": "2023-03-01T19:02:53.968Z"
   },
   {
    "duration": 6,
    "start_time": "2023-03-01T19:02:53.988Z"
   },
   {
    "duration": 6,
    "start_time": "2023-03-01T19:02:53.996Z"
   },
   {
    "duration": 43,
    "start_time": "2023-03-01T19:02:54.003Z"
   },
   {
    "duration": 5,
    "start_time": "2023-03-01T19:04:43.378Z"
   },
   {
    "duration": 4,
    "start_time": "2023-03-01T19:04:46.451Z"
   },
   {
    "duration": 1346,
    "start_time": "2023-03-01T19:29:52.403Z"
   },
   {
    "duration": 209,
    "start_time": "2023-03-01T19:29:53.751Z"
   },
   {
    "duration": 22,
    "start_time": "2023-03-01T19:29:53.970Z"
   },
   {
    "duration": 15,
    "start_time": "2023-03-01T19:29:53.994Z"
   },
   {
    "duration": 11,
    "start_time": "2023-03-01T19:29:54.011Z"
   },
   {
    "duration": 16,
    "start_time": "2023-03-01T19:29:54.024Z"
   },
   {
    "duration": 33,
    "start_time": "2023-03-01T19:29:54.043Z"
   },
   {
    "duration": 14,
    "start_time": "2023-03-01T19:29:54.080Z"
   },
   {
    "duration": 9,
    "start_time": "2023-03-01T19:29:54.095Z"
   },
   {
    "duration": 10,
    "start_time": "2023-03-01T19:29:54.106Z"
   },
   {
    "duration": 17,
    "start_time": "2023-03-01T19:29:54.118Z"
   },
   {
    "duration": 1040,
    "start_time": "2023-03-01T19:33:21.578Z"
   },
   {
    "duration": 7,
    "start_time": "2023-03-01T19:33:32.721Z"
   },
   {
    "duration": 8,
    "start_time": "2023-03-01T19:33:41.750Z"
   },
   {
    "duration": 50,
    "start_time": "2023-03-02T09:26:03.106Z"
   },
   {
    "duration": 1533,
    "start_time": "2023-03-02T09:26:15.934Z"
   },
   {
    "duration": 286,
    "start_time": "2023-03-02T09:26:17.469Z"
   },
   {
    "duration": 25,
    "start_time": "2023-03-02T09:26:17.759Z"
   },
   {
    "duration": 22,
    "start_time": "2023-03-02T09:26:17.786Z"
   },
   {
    "duration": 25,
    "start_time": "2023-03-02T09:26:17.811Z"
   },
   {
    "duration": 51,
    "start_time": "2023-03-02T09:26:17.839Z"
   },
   {
    "duration": 985,
    "start_time": "2023-03-02T09:28:55.544Z"
   },
   {
    "duration": 5,
    "start_time": "2023-03-02T09:31:30.049Z"
   },
   {
    "duration": 19,
    "start_time": "2023-03-02T09:31:30.956Z"
   },
   {
    "duration": 6,
    "start_time": "2023-03-02T09:31:46.904Z"
   },
   {
    "duration": 12,
    "start_time": "2023-03-02T09:33:03.185Z"
   },
   {
    "duration": 1299,
    "start_time": "2023-03-02T09:33:08.778Z"
   },
   {
    "duration": 188,
    "start_time": "2023-03-02T09:33:10.079Z"
   },
   {
    "duration": 21,
    "start_time": "2023-03-02T09:33:10.269Z"
   },
   {
    "duration": 14,
    "start_time": "2023-03-02T09:33:10.292Z"
   },
   {
    "duration": 14,
    "start_time": "2023-03-02T09:33:10.309Z"
   },
   {
    "duration": 157,
    "start_time": "2023-03-02T09:33:10.326Z"
   },
   {
    "duration": 0,
    "start_time": "2023-03-02T09:33:10.485Z"
   },
   {
    "duration": 0,
    "start_time": "2023-03-02T09:33:10.487Z"
   },
   {
    "duration": 0,
    "start_time": "2023-03-02T09:33:10.489Z"
   },
   {
    "duration": 12,
    "start_time": "2023-03-02T09:33:17.344Z"
   },
   {
    "duration": 7,
    "start_time": "2023-03-02T09:35:15.655Z"
   },
   {
    "duration": 5,
    "start_time": "2023-03-02T09:37:04.727Z"
   },
   {
    "duration": 19,
    "start_time": "2023-03-02T09:37:05.718Z"
   },
   {
    "duration": 18,
    "start_time": "2023-03-02T09:37:06.275Z"
   },
   {
    "duration": 7,
    "start_time": "2023-03-02T09:37:12.414Z"
   },
   {
    "duration": 1282,
    "start_time": "2023-03-02T10:24:18.393Z"
   },
   {
    "duration": 263,
    "start_time": "2023-03-02T10:24:19.679Z"
   },
   {
    "duration": 18,
    "start_time": "2023-03-02T10:24:19.944Z"
   },
   {
    "duration": 14,
    "start_time": "2023-03-02T10:24:19.964Z"
   },
   {
    "duration": 9,
    "start_time": "2023-03-02T10:24:19.981Z"
   },
   {
    "duration": 7,
    "start_time": "2023-03-02T10:24:19.992Z"
   },
   {
    "duration": 18,
    "start_time": "2023-03-02T10:24:20.001Z"
   },
   {
    "duration": 39,
    "start_time": "2023-03-02T10:24:20.021Z"
   },
   {
    "duration": 4,
    "start_time": "2023-03-02T10:28:26.707Z"
   },
   {
    "duration": 162,
    "start_time": "2023-03-02T10:28:44.706Z"
   },
   {
    "duration": 10,
    "start_time": "2023-03-02T10:29:09.554Z"
   },
   {
    "duration": 20,
    "start_time": "2023-03-02T10:29:14.462Z"
   },
   {
    "duration": 3,
    "start_time": "2023-03-02T10:33:56.888Z"
   },
   {
    "duration": 21,
    "start_time": "2023-03-02T10:44:21.435Z"
   },
   {
    "duration": 6,
    "start_time": "2023-03-02T10:50:45.367Z"
   },
   {
    "duration": 19,
    "start_time": "2023-03-02T10:50:56.175Z"
   },
   {
    "duration": 5,
    "start_time": "2023-03-02T10:52:58.471Z"
   },
   {
    "duration": 20,
    "start_time": "2023-03-02T10:52:58.924Z"
   },
   {
    "duration": 5,
    "start_time": "2023-03-02T10:53:04.428Z"
   },
   {
    "duration": 18,
    "start_time": "2023-03-02T10:53:04.676Z"
   },
   {
    "duration": 23,
    "start_time": "2023-03-02T10:53:16.668Z"
   },
   {
    "duration": 6,
    "start_time": "2023-03-02T10:53:22.104Z"
   },
   {
    "duration": 6,
    "start_time": "2023-03-02T10:53:25.388Z"
   },
   {
    "duration": 1557,
    "start_time": "2023-03-02T19:28:30.080Z"
   },
   {
    "duration": 716,
    "start_time": "2023-03-02T19:28:31.640Z"
   },
   {
    "duration": 18,
    "start_time": "2023-03-02T19:28:32.358Z"
   },
   {
    "duration": 12,
    "start_time": "2023-03-02T19:28:32.378Z"
   },
   {
    "duration": 7,
    "start_time": "2023-03-02T19:28:32.391Z"
   },
   {
    "duration": 7,
    "start_time": "2023-03-02T19:28:32.399Z"
   },
   {
    "duration": 6,
    "start_time": "2023-03-02T19:28:32.407Z"
   },
   {
    "duration": 34,
    "start_time": "2023-03-02T19:28:32.415Z"
   },
   {
    "duration": 9,
    "start_time": "2023-03-02T19:28:32.450Z"
   },
   {
    "duration": 18,
    "start_time": "2023-03-02T19:28:32.461Z"
   },
   {
    "duration": 13,
    "start_time": "2023-03-02T19:28:32.481Z"
   },
   {
    "duration": 4,
    "start_time": "2023-03-02T19:28:32.496Z"
   },
   {
    "duration": 1266,
    "start_time": "2023-03-02T19:28:53.771Z"
   },
   {
    "duration": 216,
    "start_time": "2023-03-02T19:28:55.039Z"
   },
   {
    "duration": 19,
    "start_time": "2023-03-02T19:28:55.256Z"
   },
   {
    "duration": 30,
    "start_time": "2023-03-02T19:28:55.278Z"
   },
   {
    "duration": 33,
    "start_time": "2023-03-02T19:28:55.310Z"
   },
   {
    "duration": 21,
    "start_time": "2023-03-02T19:28:55.344Z"
   },
   {
    "duration": 40,
    "start_time": "2023-03-02T19:28:55.367Z"
   },
   {
    "duration": 33,
    "start_time": "2023-03-02T19:28:55.409Z"
   },
   {
    "duration": 26,
    "start_time": "2023-03-02T19:28:55.444Z"
   },
   {
    "duration": 48,
    "start_time": "2023-03-02T19:28:55.473Z"
   },
   {
    "duration": 17,
    "start_time": "2023-03-02T19:28:55.522Z"
   },
   {
    "duration": 30,
    "start_time": "2023-03-02T19:28:55.540Z"
   },
   {
    "duration": 11,
    "start_time": "2023-03-02T19:29:14.500Z"
   },
   {
    "duration": 15,
    "start_time": "2023-03-02T19:36:23.028Z"
   },
   {
    "duration": 11,
    "start_time": "2023-03-02T19:36:29.793Z"
   },
   {
    "duration": 14,
    "start_time": "2023-03-02T19:37:16.142Z"
   },
   {
    "duration": 15,
    "start_time": "2023-03-02T19:37:30.280Z"
   },
   {
    "duration": 31,
    "start_time": "2023-03-02T19:39:50.386Z"
   },
   {
    "duration": 27,
    "start_time": "2023-03-02T19:39:55.412Z"
   },
   {
    "duration": 88,
    "start_time": "2023-03-02T19:39:58.585Z"
   },
   {
    "duration": 130,
    "start_time": "2023-03-02T19:40:20.352Z"
   },
   {
    "duration": 14,
    "start_time": "2023-03-02T19:40:37.677Z"
   },
   {
    "duration": 11,
    "start_time": "2023-03-02T19:40:39.179Z"
   },
   {
    "duration": 16,
    "start_time": "2023-03-02T19:42:04.364Z"
   },
   {
    "duration": 18,
    "start_time": "2023-03-02T19:43:46.737Z"
   },
   {
    "duration": 8,
    "start_time": "2023-03-02T19:44:00.884Z"
   },
   {
    "duration": 7,
    "start_time": "2023-03-02T19:44:46.824Z"
   },
   {
    "duration": 19,
    "start_time": "2023-03-02T19:44:47.756Z"
   },
   {
    "duration": 17,
    "start_time": "2023-03-02T19:47:54.362Z"
   },
   {
    "duration": 11,
    "start_time": "2023-03-02T19:47:54.605Z"
   },
   {
    "duration": 14,
    "start_time": "2023-03-02T19:47:58.304Z"
   },
   {
    "duration": 12,
    "start_time": "2023-03-02T19:47:58.568Z"
   },
   {
    "duration": 459,
    "start_time": "2023-03-02T20:14:30.009Z"
   },
   {
    "duration": 23,
    "start_time": "2023-03-02T20:14:30.732Z"
   },
   {
    "duration": 19,
    "start_time": "2023-03-02T20:15:01.237Z"
   },
   {
    "duration": 15,
    "start_time": "2023-03-02T20:15:02.587Z"
   },
   {
    "duration": 1618,
    "start_time": "2023-03-02T20:15:33.949Z"
   },
   {
    "duration": 254,
    "start_time": "2023-03-02T20:15:35.570Z"
   },
   {
    "duration": 34,
    "start_time": "2023-03-02T20:15:35.826Z"
   },
   {
    "duration": 36,
    "start_time": "2023-03-02T20:15:35.862Z"
   },
   {
    "duration": 33,
    "start_time": "2023-03-02T20:15:35.901Z"
   },
   {
    "duration": 27,
    "start_time": "2023-03-02T20:15:35.937Z"
   },
   {
    "duration": 24,
    "start_time": "2023-03-02T20:15:35.966Z"
   },
   {
    "duration": 8,
    "start_time": "2023-03-02T20:15:35.992Z"
   },
   {
    "duration": 19,
    "start_time": "2023-03-02T20:15:36.003Z"
   },
   {
    "duration": 23,
    "start_time": "2023-03-02T20:15:36.024Z"
   },
   {
    "duration": 25,
    "start_time": "2023-03-02T20:15:36.048Z"
   },
   {
    "duration": 1712,
    "start_time": "2023-03-02T20:15:36.075Z"
   },
   {
    "duration": 0,
    "start_time": "2023-03-02T20:15:37.790Z"
   },
   {
    "duration": 0,
    "start_time": "2023-03-02T20:15:37.791Z"
   },
   {
    "duration": 0,
    "start_time": "2023-03-02T20:15:37.792Z"
   },
   {
    "duration": 18,
    "start_time": "2023-03-02T20:15:49.970Z"
   },
   {
    "duration": 12,
    "start_time": "2023-03-02T20:15:52.277Z"
   },
   {
    "duration": 334,
    "start_time": "2023-03-02T20:17:52.337Z"
   },
   {
    "duration": 12,
    "start_time": "2023-03-02T20:17:53.420Z"
   },
   {
    "duration": 381,
    "start_time": "2023-03-02T20:18:26.947Z"
   },
   {
    "duration": 11,
    "start_time": "2023-03-02T20:18:27.442Z"
   },
   {
    "duration": 1256,
    "start_time": "2023-03-02T20:19:36.285Z"
   },
   {
    "duration": 215,
    "start_time": "2023-03-02T20:19:37.543Z"
   },
   {
    "duration": 17,
    "start_time": "2023-03-02T20:19:37.760Z"
   },
   {
    "duration": 16,
    "start_time": "2023-03-02T20:19:37.778Z"
   },
   {
    "duration": 21,
    "start_time": "2023-03-02T20:19:37.796Z"
   },
   {
    "duration": 26,
    "start_time": "2023-03-02T20:19:37.819Z"
   },
   {
    "duration": 38,
    "start_time": "2023-03-02T20:19:37.847Z"
   },
   {
    "duration": 24,
    "start_time": "2023-03-02T20:19:37.886Z"
   },
   {
    "duration": 20,
    "start_time": "2023-03-02T20:19:37.912Z"
   },
   {
    "duration": 38,
    "start_time": "2023-03-02T20:19:37.934Z"
   },
   {
    "duration": 29,
    "start_time": "2023-03-02T20:19:37.974Z"
   },
   {
    "duration": 461,
    "start_time": "2023-03-02T20:19:38.004Z"
   },
   {
    "duration": 0,
    "start_time": "2023-03-02T20:19:38.467Z"
   },
   {
    "duration": 0,
    "start_time": "2023-03-02T20:19:38.469Z"
   },
   {
    "duration": 0,
    "start_time": "2023-03-02T20:19:38.471Z"
   },
   {
    "duration": 343,
    "start_time": "2023-03-02T20:20:35.576Z"
   },
   {
    "duration": 11,
    "start_time": "2023-03-02T20:20:36.082Z"
   },
   {
    "duration": 348,
    "start_time": "2023-03-02T20:20:46.215Z"
   },
   {
    "duration": 11,
    "start_time": "2023-03-02T20:20:47.224Z"
   },
   {
    "duration": 17,
    "start_time": "2023-03-02T20:21:27.139Z"
   },
   {
    "duration": 12,
    "start_time": "2023-03-02T20:21:27.990Z"
   },
   {
    "duration": 1348,
    "start_time": "2023-03-02T20:21:57.782Z"
   },
   {
    "duration": 202,
    "start_time": "2023-03-02T20:21:59.132Z"
   },
   {
    "duration": 23,
    "start_time": "2023-03-02T20:21:59.336Z"
   },
   {
    "duration": 16,
    "start_time": "2023-03-02T20:21:59.361Z"
   },
   {
    "duration": 6,
    "start_time": "2023-03-02T20:21:59.379Z"
   },
   {
    "duration": 6,
    "start_time": "2023-03-02T20:21:59.387Z"
   },
   {
    "duration": 19,
    "start_time": "2023-03-02T20:21:59.395Z"
   },
   {
    "duration": 24,
    "start_time": "2023-03-02T20:21:59.415Z"
   },
   {
    "duration": 14,
    "start_time": "2023-03-02T20:21:59.441Z"
   },
   {
    "duration": 16,
    "start_time": "2023-03-02T20:21:59.457Z"
   },
   {
    "duration": 7,
    "start_time": "2023-03-02T20:21:59.474Z"
   },
   {
    "duration": 16,
    "start_time": "2023-03-02T20:21:59.483Z"
   },
   {
    "duration": 11,
    "start_time": "2023-03-02T20:21:59.500Z"
   },
   {
    "duration": 7,
    "start_time": "2023-03-02T20:21:59.537Z"
   },
   {
    "duration": 15,
    "start_time": "2023-03-02T20:21:59.546Z"
   },
   {
    "duration": 69,
    "start_time": "2023-03-02T20:24:07.492Z"
   },
   {
    "duration": 12,
    "start_time": "2023-03-02T20:24:08.668Z"
   },
   {
    "duration": 428,
    "start_time": "2023-03-02T20:24:22.106Z"
   },
   {
    "duration": 10,
    "start_time": "2023-03-02T20:24:22.910Z"
   },
   {
    "duration": 367,
    "start_time": "2023-03-02T20:24:34.743Z"
   },
   {
    "duration": 11,
    "start_time": "2023-03-02T20:24:35.140Z"
   },
   {
    "duration": 355,
    "start_time": "2023-03-02T20:24:45.121Z"
   },
   {
    "duration": 11,
    "start_time": "2023-03-02T20:24:45.598Z"
   },
   {
    "duration": 14,
    "start_time": "2023-03-02T20:28:49.833Z"
   },
   {
    "duration": 11,
    "start_time": "2023-03-02T20:28:51.036Z"
   },
   {
    "duration": 1217,
    "start_time": "2023-03-02T20:29:06.289Z"
   },
   {
    "duration": 267,
    "start_time": "2023-03-02T20:29:07.508Z"
   },
   {
    "duration": 16,
    "start_time": "2023-03-02T20:29:07.776Z"
   },
   {
    "duration": 35,
    "start_time": "2023-03-02T20:29:07.794Z"
   },
   {
    "duration": 33,
    "start_time": "2023-03-02T20:29:07.831Z"
   },
   {
    "duration": 26,
    "start_time": "2023-03-02T20:29:07.866Z"
   },
   {
    "duration": 35,
    "start_time": "2023-03-02T20:29:07.894Z"
   },
   {
    "duration": 21,
    "start_time": "2023-03-02T20:29:07.931Z"
   },
   {
    "duration": 31,
    "start_time": "2023-03-02T20:29:07.954Z"
   },
   {
    "duration": 35,
    "start_time": "2023-03-02T20:29:07.987Z"
   },
   {
    "duration": 28,
    "start_time": "2023-03-02T20:29:08.024Z"
   },
   {
    "duration": 38,
    "start_time": "2023-03-02T20:29:08.053Z"
   },
   {
    "duration": 25,
    "start_time": "2023-03-02T20:29:08.093Z"
   },
   {
    "duration": 29,
    "start_time": "2023-03-02T20:29:08.121Z"
   },
   {
    "duration": 19,
    "start_time": "2023-03-02T20:29:08.151Z"
   },
   {
    "duration": 23,
    "start_time": "2023-03-02T20:29:33.640Z"
   },
   {
    "duration": 33,
    "start_time": "2023-03-02T20:29:58.642Z"
   },
   {
    "duration": 15,
    "start_time": "2023-03-02T20:29:59.340Z"
   },
   {
    "duration": 17,
    "start_time": "2023-03-02T20:30:22.995Z"
   },
   {
    "duration": 10,
    "start_time": "2023-03-02T20:30:23.244Z"
   },
   {
    "duration": 24,
    "start_time": "2023-03-02T20:31:09.269Z"
   },
   {
    "duration": 28,
    "start_time": "2023-03-02T20:31:59.293Z"
   },
   {
    "duration": 21,
    "start_time": "2023-03-02T20:35:38.095Z"
   },
   {
    "duration": 126,
    "start_time": "2023-03-02T20:35:56.775Z"
   },
   {
    "duration": 24,
    "start_time": "2023-03-02T20:36:11.543Z"
   },
   {
    "duration": 25,
    "start_time": "2023-03-02T20:37:24.471Z"
   },
   {
    "duration": 1281,
    "start_time": "2023-03-02T20:37:40.252Z"
   },
   {
    "duration": 201,
    "start_time": "2023-03-02T20:37:41.535Z"
   },
   {
    "duration": 18,
    "start_time": "2023-03-02T20:37:41.739Z"
   },
   {
    "duration": 21,
    "start_time": "2023-03-02T20:37:41.759Z"
   },
   {
    "duration": 13,
    "start_time": "2023-03-02T20:37:41.782Z"
   },
   {
    "duration": 17,
    "start_time": "2023-03-02T20:37:41.797Z"
   },
   {
    "duration": 26,
    "start_time": "2023-03-02T20:37:41.816Z"
   },
   {
    "duration": 22,
    "start_time": "2023-03-02T20:37:41.844Z"
   },
   {
    "duration": 21,
    "start_time": "2023-03-02T20:37:41.868Z"
   },
   {
    "duration": 26,
    "start_time": "2023-03-02T20:37:41.890Z"
   },
   {
    "duration": 14,
    "start_time": "2023-03-02T20:37:41.918Z"
   },
   {
    "duration": 32,
    "start_time": "2023-03-02T20:37:41.933Z"
   },
   {
    "duration": 11,
    "start_time": "2023-03-02T20:37:41.967Z"
   },
   {
    "duration": 12,
    "start_time": "2023-03-02T20:37:41.980Z"
   },
   {
    "duration": 21,
    "start_time": "2023-03-02T20:37:41.994Z"
   },
   {
    "duration": 125,
    "start_time": "2023-03-02T20:40:51.962Z"
   },
   {
    "duration": 23,
    "start_time": "2023-03-02T20:41:25.985Z"
   },
   {
    "duration": 25,
    "start_time": "2023-03-02T20:41:44.095Z"
   },
   {
    "duration": 350,
    "start_time": "2023-03-02T20:42:14.021Z"
   },
   {
    "duration": 1315,
    "start_time": "2023-03-02T20:42:34.101Z"
   },
   {
    "duration": 188,
    "start_time": "2023-03-02T20:42:35.418Z"
   },
   {
    "duration": 17,
    "start_time": "2023-03-02T20:42:35.608Z"
   },
   {
    "duration": 12,
    "start_time": "2023-03-02T20:42:35.626Z"
   },
   {
    "duration": 6,
    "start_time": "2023-03-02T20:42:35.640Z"
   },
   {
    "duration": 9,
    "start_time": "2023-03-02T20:42:35.648Z"
   },
   {
    "duration": 17,
    "start_time": "2023-03-02T20:42:35.659Z"
   },
   {
    "duration": 10,
    "start_time": "2023-03-02T20:42:35.678Z"
   },
   {
    "duration": 15,
    "start_time": "2023-03-02T20:42:35.689Z"
   },
   {
    "duration": 22,
    "start_time": "2023-03-02T20:42:35.705Z"
   },
   {
    "duration": 12,
    "start_time": "2023-03-02T20:42:35.729Z"
   },
   {
    "duration": 24,
    "start_time": "2023-03-02T20:42:35.742Z"
   },
   {
    "duration": 6,
    "start_time": "2023-03-02T20:42:35.768Z"
   },
   {
    "duration": 14,
    "start_time": "2023-03-02T20:42:35.777Z"
   },
   {
    "duration": 127,
    "start_time": "2023-03-02T20:46:32.878Z"
   },
   {
    "duration": 29,
    "start_time": "2023-03-02T20:46:45.243Z"
   },
   {
    "duration": 9,
    "start_time": "2023-03-02T20:48:42.624Z"
   },
   {
    "duration": 13,
    "start_time": "2023-03-02T20:48:43.940Z"
   },
   {
    "duration": 18,
    "start_time": "2023-03-02T20:50:13.948Z"
   },
   {
    "duration": 19,
    "start_time": "2023-03-02T20:51:38.000Z"
   },
   {
    "duration": 19,
    "start_time": "2023-03-02T20:52:32.301Z"
   },
   {
    "duration": 1244,
    "start_time": "2023-03-02T20:53:08.788Z"
   },
   {
    "duration": 214,
    "start_time": "2023-03-02T20:53:10.035Z"
   },
   {
    "duration": 19,
    "start_time": "2023-03-02T20:53:10.251Z"
   },
   {
    "duration": 14,
    "start_time": "2023-03-02T20:53:10.271Z"
   },
   {
    "duration": 10,
    "start_time": "2023-03-02T20:53:10.287Z"
   },
   {
    "duration": 8,
    "start_time": "2023-03-02T20:53:10.299Z"
   },
   {
    "duration": 30,
    "start_time": "2023-03-02T20:53:10.309Z"
   },
   {
    "duration": 18,
    "start_time": "2023-03-02T20:53:10.341Z"
   },
   {
    "duration": 14,
    "start_time": "2023-03-02T20:53:10.361Z"
   },
   {
    "duration": 16,
    "start_time": "2023-03-02T20:53:10.377Z"
   },
   {
    "duration": 14,
    "start_time": "2023-03-02T20:53:10.394Z"
   },
   {
    "duration": 36,
    "start_time": "2023-03-02T20:53:10.410Z"
   },
   {
    "duration": 418,
    "start_time": "2023-03-02T20:53:10.447Z"
   },
   {
    "duration": 17,
    "start_time": "2023-03-02T20:53:19.286Z"
   },
   {
    "duration": 19,
    "start_time": "2023-03-02T20:53:47.487Z"
   },
   {
    "duration": 24,
    "start_time": "2023-03-02T20:55:04.521Z"
   },
   {
    "duration": 1240,
    "start_time": "2023-03-02T20:55:55.979Z"
   },
   {
    "duration": 255,
    "start_time": "2023-03-02T20:55:57.221Z"
   },
   {
    "duration": 17,
    "start_time": "2023-03-02T20:55:57.478Z"
   },
   {
    "duration": 52,
    "start_time": "2023-03-02T20:55:57.497Z"
   },
   {
    "duration": 40,
    "start_time": "2023-03-02T20:55:57.552Z"
   },
   {
    "duration": 89,
    "start_time": "2023-03-02T20:55:57.594Z"
   },
   {
    "duration": 111,
    "start_time": "2023-03-02T20:55:57.685Z"
   },
   {
    "duration": 106,
    "start_time": "2023-03-02T20:55:57.798Z"
   },
   {
    "duration": 77,
    "start_time": "2023-03-02T20:55:57.906Z"
   },
   {
    "duration": 83,
    "start_time": "2023-03-02T20:55:57.985Z"
   },
   {
    "duration": 88,
    "start_time": "2023-03-02T20:55:58.070Z"
   },
   {
    "duration": 91,
    "start_time": "2023-03-02T20:55:58.160Z"
   },
   {
    "duration": 70,
    "start_time": "2023-03-02T20:55:58.253Z"
   },
   {
    "duration": 1268,
    "start_time": "2023-03-02T20:56:29.080Z"
   },
   {
    "duration": 16,
    "start_time": "2023-03-02T20:56:37.563Z"
   },
   {
    "duration": 19,
    "start_time": "2023-03-02T20:57:11.654Z"
   },
   {
    "duration": 21,
    "start_time": "2023-03-02T20:58:05.690Z"
   },
   {
    "duration": 31,
    "start_time": "2023-03-02T21:02:48.038Z"
   },
   {
    "duration": 484,
    "start_time": "2023-03-02T21:03:31.923Z"
   },
   {
    "duration": 17,
    "start_time": "2023-03-02T21:04:39.964Z"
   },
   {
    "duration": 380,
    "start_time": "2023-03-02T21:05:14.295Z"
   },
   {
    "duration": 592,
    "start_time": "2023-03-02T21:06:31.019Z"
   },
   {
    "duration": 540,
    "start_time": "2023-03-02T21:07:13.608Z"
   },
   {
    "duration": 890,
    "start_time": "2023-03-02T21:07:48.538Z"
   },
   {
    "duration": 15,
    "start_time": "2023-03-02T21:10:08.007Z"
   },
   {
    "duration": 23,
    "start_time": "2023-03-02T21:10:27.299Z"
   },
   {
    "duration": 852,
    "start_time": "2023-03-02T21:11:09.369Z"
   },
   {
    "duration": 728,
    "start_time": "2023-03-02T21:11:29.298Z"
   },
   {
    "duration": 355,
    "start_time": "2023-03-02T21:12:21.129Z"
   },
   {
    "duration": 3,
    "start_time": "2023-03-02T21:16:27.149Z"
   },
   {
    "duration": 465,
    "start_time": "2023-03-02T21:16:27.516Z"
   },
   {
    "duration": 66,
    "start_time": "2023-03-03T12:05:54.089Z"
   },
   {
    "duration": 1760,
    "start_time": "2023-03-03T12:05:59.008Z"
   },
   {
    "duration": 1708,
    "start_time": "2023-03-03T12:06:00.770Z"
   },
   {
    "duration": 20,
    "start_time": "2023-03-03T12:06:02.480Z"
   },
   {
    "duration": 76,
    "start_time": "2023-03-03T12:06:02.503Z"
   },
   {
    "duration": 16,
    "start_time": "2023-03-03T12:06:02.581Z"
   },
   {
    "duration": 14,
    "start_time": "2023-03-03T12:06:02.599Z"
   },
   {
    "duration": 57,
    "start_time": "2023-03-03T12:06:02.615Z"
   },
   {
    "duration": 26,
    "start_time": "2023-03-03T12:06:02.674Z"
   },
   {
    "duration": 39,
    "start_time": "2023-03-03T12:06:02.702Z"
   },
   {
    "duration": 33,
    "start_time": "2023-03-03T12:06:02.749Z"
   },
   {
    "duration": 20,
    "start_time": "2023-03-03T12:06:02.784Z"
   },
   {
    "duration": 66,
    "start_time": "2023-03-03T12:06:02.806Z"
   },
   {
    "duration": 33,
    "start_time": "2023-03-03T12:06:02.875Z"
   },
   {
    "duration": 13,
    "start_time": "2023-03-03T12:06:02.911Z"
   },
   {
    "duration": 35,
    "start_time": "2023-03-03T12:06:02.934Z"
   },
   {
    "duration": 423,
    "start_time": "2023-03-03T12:06:02.971Z"
   },
   {
    "duration": 16,
    "start_time": "2023-03-03T12:06:23.480Z"
   },
   {
    "duration": 380,
    "start_time": "2023-03-03T12:06:33.250Z"
   },
   {
    "duration": 376,
    "start_time": "2023-03-03T12:15:42.372Z"
   },
   {
    "duration": 365,
    "start_time": "2023-03-03T12:15:50.683Z"
   },
   {
    "duration": 585,
    "start_time": "2023-03-03T12:38:24.648Z"
   },
   {
    "duration": 356,
    "start_time": "2023-03-03T12:38:37.342Z"
   },
   {
    "duration": 385,
    "start_time": "2023-03-03T12:38:43.880Z"
   },
   {
    "duration": 435,
    "start_time": "2023-03-03T12:38:55.824Z"
   },
   {
    "duration": 391,
    "start_time": "2023-03-03T12:39:06.120Z"
   },
   {
    "duration": 432,
    "start_time": "2023-03-03T12:42:01.580Z"
   },
   {
    "duration": 388,
    "start_time": "2023-03-03T12:42:35.550Z"
   },
   {
    "duration": 369,
    "start_time": "2023-03-03T12:45:30.678Z"
   },
   {
    "duration": 377,
    "start_time": "2023-03-03T12:45:46.000Z"
   },
   {
    "duration": 382,
    "start_time": "2023-03-03T12:45:52.829Z"
   },
   {
    "duration": 774,
    "start_time": "2023-03-03T12:46:33.861Z"
   },
   {
    "duration": 468,
    "start_time": "2023-03-03T12:46:54.547Z"
   },
   {
    "duration": 403,
    "start_time": "2023-03-03T12:51:37.156Z"
   },
   {
    "duration": 437,
    "start_time": "2023-03-03T12:51:54.463Z"
   },
   {
    "duration": 427,
    "start_time": "2023-03-03T12:52:46.745Z"
   },
   {
    "duration": 450,
    "start_time": "2023-03-03T12:53:30.540Z"
   },
   {
    "duration": 398,
    "start_time": "2023-03-03T12:53:45.398Z"
   },
   {
    "duration": 432,
    "start_time": "2023-03-03T12:55:15.984Z"
   },
   {
    "duration": 442,
    "start_time": "2023-03-03T12:55:21.701Z"
   },
   {
    "duration": 433,
    "start_time": "2023-03-03T12:56:16.364Z"
   },
   {
    "duration": 812,
    "start_time": "2023-03-03T13:26:19.435Z"
   },
   {
    "duration": 310,
    "start_time": "2023-03-03T13:26:20.251Z"
   },
   {
    "duration": 21,
    "start_time": "2023-03-03T13:26:20.562Z"
   },
   {
    "duration": 13,
    "start_time": "2023-03-03T13:26:20.585Z"
   },
   {
    "duration": 30,
    "start_time": "2023-03-03T13:26:20.602Z"
   },
   {
    "duration": 27,
    "start_time": "2023-03-03T13:26:20.639Z"
   },
   {
    "duration": 23,
    "start_time": "2023-03-03T13:26:20.668Z"
   },
   {
    "duration": 8,
    "start_time": "2023-03-03T13:26:20.693Z"
   },
   {
    "duration": 21,
    "start_time": "2023-03-03T13:26:20.703Z"
   },
   {
    "duration": 76,
    "start_time": "2023-03-03T13:26:20.726Z"
   },
   {
    "duration": 18,
    "start_time": "2023-03-03T13:26:20.804Z"
   },
   {
    "duration": 56,
    "start_time": "2023-03-03T13:26:20.826Z"
   },
   {
    "duration": 22,
    "start_time": "2023-03-03T13:26:20.884Z"
   },
   {
    "duration": 39,
    "start_time": "2023-03-03T13:26:20.908Z"
   },
   {
    "duration": 11,
    "start_time": "2023-03-03T13:26:20.949Z"
   },
   {
    "duration": 452,
    "start_time": "2023-03-03T13:26:20.962Z"
   },
   {
    "duration": 16,
    "start_time": "2023-03-03T13:30:25.775Z"
   },
   {
    "duration": 102,
    "start_time": "2023-03-03T13:31:27.967Z"
   },
   {
    "duration": 96,
    "start_time": "2023-03-03T13:33:05.983Z"
   },
   {
    "duration": 21,
    "start_time": "2023-03-03T13:33:30.952Z"
   },
   {
    "duration": 35,
    "start_time": "2023-03-03T13:50:39.917Z"
   }
  ],
  "kernelspec": {
   "display_name": "Python 3 (ipykernel)",
   "language": "python",
   "name": "python3"
  },
  "language_info": {
   "codemirror_mode": {
    "name": "ipython",
    "version": 3
   },
   "file_extension": ".py",
   "mimetype": "text/x-python",
   "name": "python",
   "nbconvert_exporter": "python",
   "pygments_lexer": "ipython3",
   "version": "3.9.5"
  },
  "toc": {
   "base_numbering": 1,
   "nav_menu": {},
   "number_sections": true,
   "sideBar": true,
   "skip_h1_title": true,
   "title_cell": "Содержание",
   "title_sidebar": "Contents",
   "toc_cell": true,
   "toc_position": {},
   "toc_section_display": true,
   "toc_window_display": false
  }
 },
 "nbformat": 4,
 "nbformat_minor": 5
}
